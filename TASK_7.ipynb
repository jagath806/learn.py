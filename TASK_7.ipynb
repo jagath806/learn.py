{
  "nbformat": 4,
  "nbformat_minor": 0,
  "metadata": {
    "colab": {
      "name": "TASK  7.ipynb",
      "provenance": [],
      "include_colab_link": true
    },
    "kernelspec": {
      "name": "python3",
      "display_name": "Python 3"
    },
    "language_info": {
      "name": "python"
    }
  },
  "cells": [
    {
      "cell_type": "markdown",
      "metadata": {
        "id": "view-in-github",
        "colab_type": "text"
      },
      "source": [
        "<a href=\"https://colab.research.google.com/github/jagath806/learn.py/blob/main/TASK_7.ipynb\" target=\"_parent\"><img src=\"https://colab.research.google.com/assets/colab-badge.svg\" alt=\"Open In Colab\"/></a>"
      ]
    },
    {
      "cell_type": "markdown",
      "metadata": {
        "id": "b0V3vwzcydKy"
      },
      "source": [
        "1. Write a program to check whether a  string is palindrome or not using functions. \n",
        "\n",
        "   ( A function is to be created to check whether the string is palindrome and it should give the output true or false to the main program)"
      ]
    },
    {
      "cell_type": "code",
      "metadata": {
        "id": "M2Mi7EOdyxiu",
        "outputId": "7b6d00f2-6062-46c7-b38c-3c8f66af53c7",
        "colab": {
          "base_uri": "https://localhost:8080/"
        }
      },
      "source": [
        "#please enter the code below this line.\n",
        " \n",
        "def palindrome(str):\n",
        "    if str[::-1]==str:\n",
        "      print(\"palindrome\")\n",
        "    else:\n",
        "      print(\"not palindrome\")\n",
        "str= input(\"enter a string :\")\n",
        "palindrome(str)"
      ],
      "execution_count": 2,
      "outputs": [
        {
          "output_type": "stream",
          "text": [
            "enter a string :1221\n",
            "palindrome\n"
          ],
          "name": "stdout"
        }
      ]
    },
    {
      "cell_type": "markdown",
      "metadata": {
        "id": "vSiShTyOzEz-"
      },
      "source": [
        "2.  Write a menu driven program to find largest element in L, smallest element, avg of all values, sum of all values in L. All these operation should be performed in different functions and the result should be returned.\n",
        "\n",
        "\n",
        "      L=[23,24,11,90,1,41,9,99,28,56,72]"
      ]
    },
    {
      "cell_type": "code",
      "metadata": {
        "id": "fRtMIw_CzsmO",
        "outputId": "7e45b0e1-4374-4187-ea49-f0d77a983b14",
        "colab": {
          "base_uri": "https://localhost:8080/"
        }
      },
      "source": [
        "#please enter the code below this line.\n",
        " \n",
        "def largest(l):\n",
        "    large=l[0]\n",
        "    for i in l:\n",
        "        if(i>large):\n",
        "           large=i \n",
        "    return large\n",
        "def smallest(l): \n",
        "    small=l[0]\n",
        "    for i in l:\n",
        "        if(i<small):\n",
        "            small=i\n",
        "    return small\n",
        "def sum(l):\n",
        "    s=0\n",
        "    for i in l:\n",
        "         s=s+i\n",
        "    return s\n",
        "def avg(l): \n",
        "    avg=sum(l)/len(l)\n",
        "    return avg\n",
        "l=[23,24,11,90,1,41,9,99,28,56,72] \n",
        "print(\"Largest number is ==\",largest(l))\n",
        "print(\"smallest number is \",smallest(l))\n",
        "print(\"Sum of values \",sum(l)) \n",
        "print(\"Average of values =\",avg(l))"
      ],
      "execution_count": 1,
      "outputs": [
        {
          "output_type": "stream",
          "text": [
            "Largest number is == 99\n",
            "smallest number is  1\n",
            "Sum of values  454\n",
            "Average of values = 41.27272727272727\n"
          ],
          "name": "stdout"
        }
      ]
    }
  ]
}