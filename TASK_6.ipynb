{
  "nbformat": 4,
  "nbformat_minor": 0,
  "metadata": {
    "colab": {
      "name": "TASK 6.ipynb",
      "provenance": [],
      "include_colab_link": true
    },
    "kernelspec": {
      "name": "python3",
      "display_name": "Python 3"
    },
    "language_info": {
      "name": "python"
    }
  },
  "cells": [
    {
      "cell_type": "markdown",
      "metadata": {
        "id": "view-in-github",
        "colab_type": "text"
      },
      "source": [
        "<a href=\"https://colab.research.google.com/github/jagath806/learn.py/blob/main/TASK_6.ipynb\" target=\"_parent\"><img src=\"https://colab.research.google.com/assets/colab-badge.svg\" alt=\"Open In Colab\"/></a>"
      ]
    },
    {
      "cell_type": "markdown",
      "metadata": {
        "id": "2aT_QhgIny6V"
      },
      "source": [
        "1. Write a Python program to find those numbers which are divisible by 7 and multiple of 11, between 1000 and 2000 (both included)."
      ]
    },
    {
      "cell_type": "code",
      "metadata": {
        "id": "KlFG2BFZoEEU",
        "colab": {
          "base_uri": "https://localhost:8080/"
        },
        "outputId": "9b5ac1d9-bb4c-4451-90a4-12d9c99066ef"
      },
      "source": [
        "#please enter your answer below this line\n",
        "for x in range(1000,2000):\n",
        " if(x%7==0)and(x%11==0):\n",
        "  print(x)"
      ],
      "execution_count": 1,
      "outputs": [
        {
          "output_type": "stream",
          "text": [
            "1001\n",
            "1078\n",
            "1155\n",
            "1232\n",
            "1309\n",
            "1386\n",
            "1463\n",
            "1540\n",
            "1617\n",
            "1694\n",
            "1771\n",
            "1848\n",
            "1925\n"
          ],
          "name": "stdout"
        }
      ]
    },
    {
      "cell_type": "markdown",
      "metadata": {
        "id": "ZesHXUMboLu7"
      },
      "source": [
        "2. Write a program to print this pattern\n",
        "\n",
        "           #\n",
        "          ## \n",
        "         ###"
      ]
    },
    {
      "cell_type": "code",
      "metadata": {
        "id": "64-aUjWbohqz",
        "colab": {
          "base_uri": "https://localhost:8080/"
        },
        "outputId": "bded3849-944e-4930-db1f-480d1e50c828"
      },
      "source": [
        "#please enter your answer below this line\n",
        " \n",
        "for i in range(0,3): \n",
        "    for j in range(0,3-i-1):  \n",
        "        print(end=\" \")  \n",
        "    for j in range(0,i+1):\n",
        "        print(\"#\",end=\"\")  \n",
        "    print()"
      ],
      "execution_count": null,
      "outputs": [
        {
          "output_type": "stream",
          "text": [
            "  #\n",
            " ##\n",
            "###\n"
          ],
          "name": "stdout"
        }
      ]
    },
    {
      "cell_type": "markdown",
      "metadata": {
        "id": "6ZepaaI-ow6W"
      },
      "source": [
        "3. list=[apple, orange, apple, banana]\n",
        ". Replace all the apple in the list with grapes using for loop"
      ]
    },
    {
      "cell_type": "code",
      "metadata": {
        "id": "D7UOyf_6o6Ax",
        "colab": {
          "base_uri": "https://localhost:8080/"
        },
        "outputId": "c40c711e-a4e6-44fe-b083-f67c1d9abaa1"
      },
      "source": [
        "#please enter your answer below this line\n",
        "list=['apple', 'orange', 'apple', 'banana']\n",
        "count=0\n",
        "for i in list:\n",
        "   if(i=='apple'):\n",
        "      list[count]='grape'\n",
        "   count=count+1\n",
        "print(list)"
      ],
      "execution_count": null,
      "outputs": [
        {
          "output_type": "stream",
          "text": [
            "['grape', 'orange', 'grape', 'banana']\n"
          ],
          "name": "stdout"
        }
      ]
    }
  ]
}