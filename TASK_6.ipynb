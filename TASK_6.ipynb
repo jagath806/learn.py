{
  "nbformat": 4,
  "nbformat_minor": 0,
  "metadata": {
    "colab": {
      "name": "TASK 6.ipynb",
      "provenance": [],
      "include_colab_link": true
    },
    "kernelspec": {
      "name": "python3",
      "display_name": "Python 3"
    },
    "language_info": {
      "name": "python"
    }
  },
  "cells": [
    {
      "cell_type": "markdown",
      "metadata": {
        "id": "view-in-github",
        "colab_type": "text"
      },
      "source": [
        "<a href=\"https://colab.research.google.com/github/jagath806/learn.py/blob/main/TASK_6.ipynb\" target=\"_parent\"><img src=\"https://colab.research.google.com/assets/colab-badge.svg\" alt=\"Open In Colab\"/></a>"
      ]
    },
    {
      "cell_type": "markdown",
      "metadata": {
        "id": "2aT_QhgIny6V"
      },
      "source": [
        "1. Write a Python program to find those numbers which are divisible by 7 and multiple of 11, between 1000 and 2000 (both included)."
      ]
    },
    {
      "cell_type": "code",
      "metadata": {
        "id": "KlFG2BFZoEEU",
        "outputId": "04926f28-fe06-485d-dd01-65f0cf2d8ca1",
        "colab": {
          "base_uri": "https://localhost:8080/"
        }
      },
      "source": [
        "#please enter your answer below this line\n",
        "for x in range(2000,11000):\n",
        " if(x%7==0)and(x%11==0):\n",
        "  print(x)"
      ],
      "execution_count": 4,
      "outputs": [
        {
          "output_type": "stream",
          "text": [
            "2002\n",
            "2079\n",
            "2156\n",
            "2233\n",
            "2310\n",
            "2387\n",
            "2464\n",
            "2541\n",
            "2618\n",
            "2695\n",
            "2772\n",
            "2849\n",
            "2926\n",
            "3003\n",
            "3080\n",
            "3157\n",
            "3234\n",
            "3311\n",
            "3388\n",
            "3465\n",
            "3542\n",
            "3619\n",
            "3696\n",
            "3773\n",
            "3850\n",
            "3927\n",
            "4004\n",
            "4081\n",
            "4158\n",
            "4235\n",
            "4312\n",
            "4389\n",
            "4466\n",
            "4543\n",
            "4620\n",
            "4697\n",
            "4774\n",
            "4851\n",
            "4928\n",
            "5005\n",
            "5082\n",
            "5159\n",
            "5236\n",
            "5313\n",
            "5390\n",
            "5467\n",
            "5544\n",
            "5621\n",
            "5698\n",
            "5775\n",
            "5852\n",
            "5929\n",
            "6006\n",
            "6083\n",
            "6160\n",
            "6237\n",
            "6314\n",
            "6391\n",
            "6468\n",
            "6545\n",
            "6622\n",
            "6699\n",
            "6776\n",
            "6853\n",
            "6930\n",
            "7007\n",
            "7084\n",
            "7161\n",
            "7238\n",
            "7315\n",
            "7392\n",
            "7469\n",
            "7546\n",
            "7623\n",
            "7700\n",
            "7777\n",
            "7854\n",
            "7931\n",
            "8008\n",
            "8085\n",
            "8162\n",
            "8239\n",
            "8316\n",
            "8393\n",
            "8470\n",
            "8547\n",
            "8624\n",
            "8701\n",
            "8778\n",
            "8855\n",
            "8932\n",
            "9009\n",
            "9086\n",
            "9163\n",
            "9240\n",
            "9317\n",
            "9394\n",
            "9471\n",
            "9548\n",
            "9625\n",
            "9702\n",
            "9779\n",
            "9856\n",
            "9933\n",
            "10010\n",
            "10087\n",
            "10164\n",
            "10241\n",
            "10318\n",
            "10395\n",
            "10472\n",
            "10549\n",
            "10626\n",
            "10703\n",
            "10780\n",
            "10857\n",
            "10934\n"
          ],
          "name": "stdout"
        }
      ]
    },
    {
      "cell_type": "markdown",
      "metadata": {
        "id": "ZesHXUMboLu7"
      },
      "source": [
        "2. Write a program to print this pattern\n",
        "\n",
        "           #\n",
        "          ## \n",
        "         ###"
      ]
    },
    {
      "cell_type": "code",
      "metadata": {
        "id": "64-aUjWbohqz",
        "outputId": "bded3849-944e-4930-db1f-480d1e50c828",
        "colab": {
          "base_uri": "https://localhost:8080/"
        }
      },
      "source": [
        "#please enter your answer below this line\n",
        " \n",
        "for i in range(0,3): \n",
        "    for j in range(0,3-i-1):  \n",
        "        print(end=\" \")  \n",
        "    for j in range(0,i+1):\n",
        "        print(\"#\",end=\"\")  \n",
        "    print()"
      ],
      "execution_count": 2,
      "outputs": [
        {
          "output_type": "stream",
          "text": [
            "  #\n",
            " ##\n",
            "###\n"
          ],
          "name": "stdout"
        }
      ]
    },
    {
      "cell_type": "markdown",
      "metadata": {
        "id": "6ZepaaI-ow6W"
      },
      "source": [
        "3. list=[apple, orange, apple, banana]\n",
        ". Replace all the apple in the list with grapes using for loop"
      ]
    },
    {
      "cell_type": "code",
      "metadata": {
        "id": "D7UOyf_6o6Ax",
        "outputId": "c40c711e-a4e6-44fe-b083-f67c1d9abaa1",
        "colab": {
          "base_uri": "https://localhost:8080/"
        }
      },
      "source": [
        "#please enter your answer below this line\n",
        "list=['apple', 'orange', 'apple', 'banana']\n",
        "count=0\n",
        "for i in list:\n",
        "   if(i=='apple'):\n",
        "      list[count]='grape'\n",
        "   count=count+1\n",
        "print(list)"
      ],
      "execution_count": 1,
      "outputs": [
        {
          "output_type": "stream",
          "text": [
            "['grape', 'orange', 'grape', 'banana']\n"
          ],
          "name": "stdout"
        }
      ]
    }
  ]
}